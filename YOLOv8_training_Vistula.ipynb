{
  "nbformat": 4,
  "nbformat_minor": 0,
  "metadata": {
    "colab": {
      "provenance": [],
      "gpuType": "T4",
      "include_colab_link": true
    },
    "kernelspec": {
      "name": "python3",
      "display_name": "Python 3"
    },
    "language_info": {
      "name": "python"
    },
    "accelerator": "GPU"
  },
  "cells": [
    {
      "cell_type": "markdown",
      "metadata": {
        "id": "view-in-github",
        "colab_type": "text"
      },
      "source": [
        "<a href=\"https://colab.research.google.com/github/PaulinaWalasiewicz/Colab-notebooks/blob/main/YOLOv8_training_Vistula.ipynb\" target=\"_parent\"><img src=\"https://colab.research.google.com/assets/colab-badge.svg\" alt=\"Open In Colab\"/></a>"
      ]
    },
    {
      "cell_type": "code",
      "execution_count": null,
      "metadata": {
        "id": "AMhW-I8BtXui"
      },
      "outputs": [],
      "source": [
        "!pip install ultralytics"
      ]
    },
    {
      "cell_type": "code",
      "source": [
        "from ultralytics import YOLO\n",
        "import cv2\n",
        "import matplotlib.pyplot as plt\n",
        "\n",
        "import pandas as pd\n",
        "import numpy as np\n",
        "import torch\n",
        "\n",
        "# ustawienie dostepnej jednostki obliczeniowej\n",
        "device = torch.device('cuda' if torch.cuda.is_available() else 'cpu')"
      ],
      "metadata": {
        "id": "lRyE_2Y9t7Fw"
      },
      "execution_count": null,
      "outputs": []
    },
    {
      "cell_type": "code",
      "source": [
        "model = YOLO(\"yolov8x.pt\").to(device)\n",
        "dict_classes = model.model.names\n",
        "\n",
        "# Zauwazcie, jakie sa domyslne klasy, czyli obiekty, ktore model bedzie \"probowal\" znalezc na obrazku\n",
        "print (dict_classes)"
      ],
      "metadata": {
        "id": "S0p6sV2Ft8KA"
      },
      "execution_count": null,
      "outputs": []
    },
    {
      "cell_type": "code",
      "source": [
        "# Rozpakowanie zipa z danymi treningowymi\n",
        "import zipfile\n",
        "\n",
        "with zipfile.ZipFile('/content/data/DeepPCB.v5i.yolov8.zip') as target_file:\n",
        "    target_file.extractall('/content/data/DeepPBC/')"
      ],
      "metadata": {
        "id": "d4XhRZH7uOA7"
      },
      "execution_count": null,
      "outputs": []
    },
    {
      "cell_type": "code",
      "source": [
        "import yaml\n",
        "\n",
        "# Ustawienie poszczegolnych katalogow jako train, test i validate oraz okreslenie klas, ktore beda wykorzystane w treningu\n",
        "data = {'train' :  '/content/data/DeepPBC/train/images',\n",
        "        'val' :  '/content/data/DeepPBC/valid/images',\n",
        "        'test' :  '/content/data/DeepPBC/test/images',\n",
        "        'nc': 6,\n",
        "        'names': ['copper', 'mousebite', 'open', 'pin-hole', 'short', 'spur']\n",
        "        }\n",
        "\n",
        "# Nadpisanie pliku konfiguratora traningu yaml\n",
        "with open('/content/data/DeepPBC/pbc_data.yaml', 'w') as f:\n",
        "    yaml.dump(data, f)\n",
        "\n",
        "# Czytanie zawartosci pliku yaml\n",
        "with open('/content/data/DeepPBC/pbc_data.yaml', 'r') as f:\n",
        "    hamster_yaml = yaml.safe_load(f)\n",
        "    display(hamster_yaml)"
      ],
      "metadata": {
        "id": "pu-xwki-upGJ"
      },
      "execution_count": null,
      "outputs": []
    },
    {
      "cell_type": "code",
      "source": [
        "model.train(data='/content/data/DeepPBC/pbc_data.yaml', epochs=10, batch=16)"
      ],
      "metadata": {
        "id": "aNMHviaFvx0F"
      },
      "execution_count": null,
      "outputs": []
    },
    {
      "cell_type": "code",
      "source": [
        "# ZAD1. W katalogu run znajdzie model best.pt i zaladujcie go\n",
        "model = YOLO('/content/model/.....', task=\"detect\")\n",
        "dict_classes = model.model.names\n",
        "\n",
        "# Wyswietlcie klasy modelu po treningu - jak zmienily sie w stosunku do oryginalnych klas\n",
        "print (dict_classes)"
      ],
      "metadata": {
        "id": "QM3Uda7N6UE-"
      },
      "execution_count": null,
      "outputs": []
    },
    {
      "cell_type": "code",
      "source": [
        "# ZAD2. wypróbujcie dzialanie modelu z kilkoma (5) obrazkami z folderu valid\n",
        "\n",
        "results = model.predict(source='/content/data/DeepPBC/valid/images/00041006_test_jpg.rf.612e798d3949ac4f3d8d73c32ee04a09.jpg',save = True)"
      ],
      "metadata": {
        "id": "N5jjEX58zrCd"
      },
      "execution_count": null,
      "outputs": []
    },
    {
      "cell_type": "code",
      "source": [
        "# ZAD3. Sprobujcie wyeksportowac model do formatu TensorRT (https://docs.ultralytics.com/modes/export/#export-formats)\n",
        "# Export the model\n",
        "model.export(format=\"engine\")"
      ],
      "metadata": {
        "id": "eizStigE4g8A"
      },
      "execution_count": null,
      "outputs": []
    }
  ]
}